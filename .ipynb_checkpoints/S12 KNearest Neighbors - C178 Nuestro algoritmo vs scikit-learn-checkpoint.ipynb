{
 "cells": [
  {
   "cell_type": "markdown",
   "metadata": {},
   "source": [
    "# Creando los datos para la clasificación"
   ]
  },
  {
   "cell_type": "code",
   "execution_count": 17,
   "metadata": {},
   "outputs": [],
   "source": [
    "import numpy as np\n",
    "import pandas as pd\n",
    "import matplotlib.pyplot as plt\n",
    "from matplotlib import style\n",
    "import warnings\n",
    "from math import sqrt\n",
    "from collections import Counter\n",
    "import random"
   ]
  },
  {
   "cell_type": "code",
   "execution_count": 2,
   "metadata": {},
   "outputs": [],
   "source": [
    "df = {\n",
    "    'k' : [[1,2],[2,3],[3,1]],\n",
    "    'r' : [[6,5],[7,7],[8,6]]\n",
    "}\n",
    "new_point = [5,7]"
   ]
  },
  {
   "cell_type": "code",
   "execution_count": 3,
   "metadata": {},
   "outputs": [
    {
     "data": {
      "text/plain": [
       "<matplotlib.collections.PathCollection at 0x217371e19e8>"
      ]
     },
     "execution_count": 3,
     "metadata": {},
     "output_type": "execute_result"
    },
    {
     "data": {
      "image/png": "[encoded data removed]",
      "text/plain": [
       "<Figure size 432x288 with 1 Axes>"
      ]
     },
     "metadata": {
      "needs_background": "light"
     },
     "output_type": "display_data"
    }
   ],
   "source": [
    "[[plt.scatter(ii[0],ii[1], s=50, color=i) for ii in df[i]] for i in df]\n",
    "plt.scatter(new_point[0],new_point[1],c=\"b\", s=100)"
   ]
  },
  {
   "cell_type": "code",
   "execution_count": 25,
   "metadata": {},
   "outputs": [],
   "source": [
    "def k_nearest_neighbors(data,predict,k=3, verbose=False):\n",
    "    \n",
    "    if len(data) >= k:\n",
    "        warnings.warn(\"K es un valor menor que el nro total de elementos a votar!\")\n",
    "    \n",
    "    distances = []\n",
    "    for group in data:\n",
    "        for features in data[group]:\n",
    "            #d = np.sqrt((feature[0]-predict[0])**2 + (feature[1]-predict[1])**2)\n",
    "            #d = np.sqrt(np.sum((np.array(features)-np.array(predict))**2))\n",
    "            d = np.linalg.norm(np.array(features)-np.array(predict))\n",
    "            distances.append([d,group])\n",
    "    if verbose: \n",
    "        print(distances)\n",
    "    votes = [i[1] for i in sorted(distances)[:k]] #ordena por la primera columna\n",
    "    if verbose: \n",
    "        print(votes)\n",
    "    \n",
    "    vote_result = Counter(votes).most_common(1)[0][0]\n",
    "    \n",
    "    return vote_result"
   ]
  },
  {
   "cell_type": "code",
   "execution_count": 5,
   "metadata": {},
   "outputs": [
    {
     "name": "stdout",
     "output_type": "stream",
     "text": [
      "[[6.4031242374328485, 'k'], [5.0, 'k'], [6.324555320336759, 'k'], [2.23606797749979, 'r'], [2.0, 'r'], [3.1622776601683795, 'r']]\n",
      "['r', 'r', 'r']\n"
     ]
    },
    {
     "data": {
      "text/plain": [
       "'r'"
      ]
     },
     "execution_count": 5,
     "metadata": {},
     "output_type": "execute_result"
    }
   ],
   "source": [
    "result = k_nearest_neighbors(df, new_point)\n",
    "result"
   ]
  },
  {
   "cell_type": "code",
   "execution_count": 6,
   "metadata": {},
   "outputs": [
    {
     "data": {
      "text/plain": [
       "<matplotlib.collections.PathCollection at 0x21737d03be0>"
      ]
     },
     "execution_count": 6,
     "metadata": {},
     "output_type": "execute_result"
    },
    {
     "data": {
      "image/png": "[encoded data removed]",
      "text/plain": [
       "<Figure size 432x288 with 1 Axes>"
      ]
     },
     "metadata": {
      "needs_background": "light"
     },
     "output_type": "display_data"
    }
   ],
   "source": [
    "[[plt.scatter(ii[0],ii[1], s=50, color=i) for ii in df[i]] for i in df]\n",
    "plt.scatter(new_point[0],new_point[1],c=result, s=100)"
   ]
  },
  {
   "cell_type": "code",
   "execution_count": 7,
   "metadata": {},
   "outputs": [
    {
     "name": "stdout",
     "output_type": "stream",
     "text": [
      "[[2.8284271247461903, 'k'], [1.4142135623730951, 'k'], [3.0, 'k'], [3.1622776601683795, 'r'], [5.0, 'r'], [5.385164807134504, 'r']]\n",
      "['k', 'k', 'k']\n"
     ]
    },
    {
     "data": {
      "text/plain": [
       "<matplotlib.collections.PathCollection at 0x21737da0c50>"
      ]
     },
     "execution_count": 7,
     "metadata": {},
     "output_type": "execute_result"
    },
    {
     "data": {
      "image/png": "[encoded data removed]",
      "text/plain": [
       "<Figure size 432x288 with 1 Axes>"
      ]
     },
     "metadata": {
      "needs_background": "light"
     },
     "output_type": "display_data"
    }
   ],
   "source": [
    "new_point2 = [3,4]\n",
    "result2 = k_nearest_neighbors(df, new_point2)\n",
    "[[plt.scatter(ii[0],ii[1], s=50, color=i) for ii in df[i]] for i in df]\n",
    "plt.scatter(new_point[0],new_point[1],c=result, s=100)\n",
    "plt.scatter(new_point2[0],new_point[1],c=result2, s=100)"
   ]
  },
  {
   "cell_type": "markdown",
   "metadata": {},
   "source": [
    "# Nuestro algoritmo vs scikit-learn"
   ]
  },
  {
   "cell_type": "code",
   "execution_count": 13,
   "metadata": {},
   "outputs": [],
   "source": [
    "df_cancer = pd.read_csv(\"../../python-ml-course-master/datasets/cancer/breast-cancer-wisconsin.data.txt\")\n",
    "df_cancer.columns = [\"name\", \"v1\", \"v2\", \"v3\", \"v4\", \"v5\", \"v6\", \"v7\", \"v8\", \"v9\",\"class\"]\n",
    "df_cancer.drop([\"name\"],axis=1,inplace=True)\n",
    "df_cancer.replace(\"?\", -99999, inplace=True)"
   ]
  },
  {
   "cell_type": "code",
   "execution_count": 16,
   "metadata": {},
   "outputs": [],
   "source": [
    "full_df = df_cancer.astype(float).values.tolist()"
   ]
  },
  {
   "cell_type": "code",
   "execution_count": 18,
   "metadata": {},
   "outputs": [],
   "source": [
    "random.shuffle(full_df)"
   ]
  },
  {
   "cell_type": "code",
   "execution_count": 19,
   "metadata": {},
   "outputs": [],
   "source": [
    "test_size=0.2"
   ]
  },
  {
   "cell_type": "code",
   "execution_count": 20,
   "metadata": {},
   "outputs": [],
   "source": [
    "train_set = {2:[],4:[]}\n",
    "test_set = {2:[],4:[]}"
   ]
  },
  {
   "cell_type": "code",
   "execution_count": 21,
   "metadata": {},
   "outputs": [],
   "source": [
    "train_data = full_df[:-int(test_size*len(full_df))]\n",
    "test_data = full_df[-int(test_size*len(full_df)):]"
   ]
  },
  {
   "cell_type": "code",
   "execution_count": 22,
   "metadata": {},
   "outputs": [],
   "source": [
    "for i in train_data:\n",
    "    train_set[i[-1]].append(i[:-1])\n",
    "\n",
    "for i in test_data:\n",
    "    test_set[i[-1]].append(i[:-1])    "
   ]
  },
  {
   "cell_type": "code",
   "execution_count": 24,
   "metadata": {},
   "outputs": [
    {
     "data": {
      "text/plain": [
       "{2: [[5.0, 1.0, 1.0, 1.0, 2.0, 1.0, 3.0, 1.0, 2.0],\n",
       "  [3.0, 1.0, 4.0, 1.0, 2.0, -99999.0, 3.0, 1.0, 1.0],\n",
       "  [5.0, 1.0, 1.0, 1.0, 2.0, 1.0, 2.0, 1.0, 1.0],\n",
       "  [4.0, 1.0, 3.0, 1.0, 2.0, 1.0, 2.0, 1.0, 1.0],\n",
       "  [1.0, 1.0, 2.0, 1.0, 2.0, 2.0, 4.0, 2.0, 1.0],\n",
       "  [2.0, 2.0, 2.0, 1.0, 1.0, 1.0, 7.0, 1.0, 1.0],\n",
       "  [4.0, 2.0, 1.0, 1.0, 2.0, 1.0, 2.0, 1.0, 1.0],\n",
       "  [1.0, 1.0, 1.0, 1.0, 2.0, 1.0, 3.0, 1.0, 1.0],\n",
       "  [3.0, 1.0, 1.0, 1.0, 2.0, 1.0, 3.0, 1.0, 1.0],\n",
       "  [1.0, 1.0, 1.0, 1.0, 4.0, 3.0, 1.0, 1.0, 1.0],\n",
       "  [1.0, 1.0, 1.0, 1.0, 1.0, 1.0, 1.0, 1.0, 1.0],\n",
       "  [1.0, 1.0, 1.0, 1.0, 1.0, 1.0, 2.0, 1.0, 1.0],\n",
       "  [5.0, 1.0, 1.0, 3.0, 2.0, 1.0, 1.0, 1.0, 1.0],\n",
       "  [6.0, 1.0, 1.0, 1.0, 1.0, 1.0, 1.0, 1.0, 1.0],\n",
       "  [5.0, 1.0, 1.0, 1.0, 2.0, 1.0, 2.0, 1.0, 1.0],\n",
       "  [3.0, 1.0, 4.0, 1.0, 2.0, 1.0, 1.0, 1.0, 1.0],\n",
       "  [3.0, 1.0, 1.0, 3.0, 1.0, 1.0, 3.0, 1.0, 1.0],\n",
       "  [8.0, 3.0, 3.0, 1.0, 2.0, 2.0, 3.0, 2.0, 1.0],\n",
       "  [1.0, 1.0, 1.0, 1.0, 2.0, 2.0, 1.0, 1.0, 1.0],\n",
       "  [3.0, 1.0, 1.0, 1.0, 2.0, 1.0, 1.0, 1.0, 1.0],\n",
       "  [3.0, 4.0, 5.0, 3.0, 7.0, 3.0, 4.0, 6.0, 1.0],\n",
       "  [5.0, 1.0, 1.0, 2.0, 2.0, 2.0, 3.0, 1.0, 1.0],\n",
       "  [3.0, 2.0, 1.0, 1.0, 2.0, 2.0, 3.0, 1.0, 1.0],\n",
       "  [5.0, 1.0, 1.0, 3.0, 2.0, 1.0, 1.0, 1.0, 1.0],\n",
       "  [5.0, 1.0, 1.0, 6.0, 3.0, 1.0, 2.0, 1.0, 1.0],\n",
       "  [1.0, 1.0, 1.0, 1.0, 2.0, 1.0, 3.0, 1.0, 1.0],\n",
       "  [3.0, 1.0, 1.0, 2.0, 2.0, 1.0, 1.0, 1.0, 1.0],\n",
       "  [2.0, 1.0, 1.0, 1.0, 2.0, 1.0, 1.0, 1.0, 1.0],\n",
       "  [1.0, 1.0, 1.0, 1.0, 2.0, 1.0, 3.0, 1.0, 1.0],\n",
       "  [1.0, 1.0, 1.0, 1.0, 2.0, 1.0, 2.0, 1.0, 1.0],\n",
       "  [1.0, 1.0, 1.0, 1.0, 2.0, 1.0, 3.0, 1.0, 1.0],\n",
       "  [1.0, 1.0, 1.0, 1.0, 1.0, 1.0, 1.0, 3.0, 1.0],\n",
       "  [1.0, 1.0, 1.0, 2.0, 2.0, 1.0, 3.0, 1.0, 1.0],\n",
       "  [5.0, 1.0, 1.0, 1.0, 2.0, 1.0, 1.0, 1.0, 1.0],\n",
       "  [5.0, 1.0, 1.0, 1.0, 2.0, 1.0, 2.0, 2.0, 1.0],\n",
       "  [2.0, 1.0, 1.0, 1.0, 2.0, 1.0, 2.0, 1.0, 1.0],\n",
       "  [3.0, 1.0, 1.0, 1.0, 2.0, -99999.0, 3.0, 1.0, 1.0],\n",
       "  [3.0, 2.0, 2.0, 3.0, 2.0, 1.0, 1.0, 1.0, 1.0],\n",
       "  [3.0, 1.0, 1.0, 1.0, 2.0, 1.0, 1.0, 1.0, 1.0],\n",
       "  [1.0, 1.0, 2.0, 2.0, 2.0, 1.0, 3.0, 1.0, 1.0],\n",
       "  [2.0, 1.0, 1.0, 1.0, 2.0, 1.0, 1.0, 1.0, 5.0],\n",
       "  [4.0, 1.0, 1.0, 1.0, 2.0, 1.0, 3.0, 1.0, 1.0],\n",
       "  [1.0, 3.0, 1.0, 1.0, 2.0, 1.0, 2.0, 2.0, 1.0],\n",
       "  [4.0, 3.0, 3.0, 1.0, 2.0, 1.0, 3.0, 3.0, 1.0],\n",
       "  [4.0, 2.0, 2.0, 1.0, 2.0, 1.0, 2.0, 1.0, 1.0],\n",
       "  [4.0, 1.0, 1.0, 1.0, 2.0, 1.0, 1.0, 1.0, 1.0],\n",
       "  [5.0, 1.0, 1.0, 1.0, 2.0, 1.0, 1.0, 1.0, 1.0],\n",
       "  [3.0, 1.0, 1.0, 1.0, 2.0, 3.0, 3.0, 1.0, 1.0],\n",
       "  [3.0, 1.0, 3.0, 1.0, 2.0, -99999.0, 2.0, 1.0, 1.0],\n",
       "  [1.0, 1.0, 1.0, 1.0, 2.0, 1.0, 3.0, 1.0, 1.0],\n",
       "  [5.0, 4.0, 3.0, 1.0, 2.0, -99999.0, 2.0, 3.0, 1.0],\n",
       "  [5.0, 3.0, 1.0, 1.0, 2.0, 1.0, 1.0, 1.0, 1.0],\n",
       "  [5.0, 1.0, 2.0, 1.0, 2.0, 1.0, 3.0, 1.0, 1.0],\n",
       "  [4.0, 1.0, 1.0, 1.0, 3.0, 1.0, 1.0, 1.0, 1.0],\n",
       "  [3.0, 1.0, 1.0, 1.0, 1.0, 1.0, 2.0, 1.0, 1.0],\n",
       "  [5.0, 4.0, 4.0, 5.0, 7.0, 10.0, 3.0, 2.0, 1.0],\n",
       "  [3.0, 2.0, 2.0, 2.0, 2.0, 1.0, 4.0, 2.0, 1.0],\n",
       "  [2.0, 1.0, 1.0, 1.0, 2.0, 5.0, 1.0, 1.0, 1.0],\n",
       "  [3.0, 1.0, 1.0, 1.0, 2.0, 1.0, 3.0, 1.0, 1.0],\n",
       "  [5.0, 1.0, 2.0, 1.0, 2.0, 1.0, 3.0, 1.0, 1.0],\n",
       "  [4.0, 1.0, 1.0, 1.0, 2.0, 1.0, 3.0, 1.0, 1.0],\n",
       "  [1.0, 2.0, 2.0, 1.0, 2.0, 1.0, 2.0, 1.0, 1.0],\n",
       "  [3.0, 1.0, 1.0, 1.0, 2.0, 1.0, 2.0, 1.0, 1.0],\n",
       "  [3.0, 1.0, 1.0, 1.0, 2.0, 1.0, 1.0, 1.0, 1.0],\n",
       "  [3.0, 1.0, 1.0, 3.0, 2.0, 1.0, 1.0, 1.0, 1.0],\n",
       "  [5.0, 3.0, 2.0, 4.0, 2.0, 1.0, 1.0, 1.0, 1.0],\n",
       "  [2.0, 3.0, 1.0, 1.0, 3.0, 1.0, 1.0, 1.0, 1.0],\n",
       "  [1.0, 1.0, 1.0, 1.0, 2.0, 1.0, 3.0, 1.0, 1.0],\n",
       "  [2.0, 1.0, 1.0, 1.0, 2.0, 1.0, 3.0, 1.0, 1.0],\n",
       "  [5.0, 3.0, 3.0, 1.0, 2.0, 1.0, 2.0, 1.0, 1.0],\n",
       "  [1.0, 1.0, 1.0, 1.0, 1.0, 1.0, 3.0, 1.0, 1.0],\n",
       "  [4.0, 3.0, 1.0, 1.0, 2.0, 1.0, 4.0, 8.0, 1.0],\n",
       "  [4.0, 1.0, 1.0, 1.0, 2.0, 1.0, 2.0, 1.0, 1.0],\n",
       "  [2.0, 1.0, 1.0, 2.0, 3.0, 1.0, 2.0, 1.0, 1.0],\n",
       "  [3.0, 3.0, 2.0, 1.0, 2.0, 3.0, 3.0, 1.0, 1.0],\n",
       "  [2.0, 1.0, 1.0, 1.0, 2.0, 1.0, 3.0, 1.0, 1.0],\n",
       "  [4.0, 1.0, 1.0, 1.0, 2.0, 1.0, 1.0, 1.0, 1.0],\n",
       "  [1.0, 1.0, 1.0, 1.0, 2.0, 1.0, 1.0, 1.0, 1.0],\n",
       "  [3.0, 1.0, 2.0, 1.0, 2.0, 1.0, 2.0, 1.0, 1.0],\n",
       "  [2.0, 1.0, 1.0, 1.0, 2.0, 1.0, 3.0, 1.0, 1.0],\n",
       "  [1.0, 1.0, 1.0, 1.0, 2.0, 1.0, 1.0, 1.0, 1.0],\n",
       "  [4.0, 1.0, 1.0, 1.0, 2.0, 1.0, 1.0, 1.0, 1.0],\n",
       "  [4.0, 1.0, 1.0, 1.0, 1.0, 1.0, 2.0, 1.0, 1.0],\n",
       "  [5.0, 2.0, 1.0, 1.0, 2.0, 1.0, 3.0, 1.0, 1.0],\n",
       "  [3.0, 1.0, 1.0, 1.0, 2.0, 1.0, 1.0, 1.0, 1.0],\n",
       "  [4.0, 1.0, 1.0, 2.0, 2.0, 1.0, 1.0, 1.0, 1.0],\n",
       "  [1.0, 1.0, 1.0, 1.0, 1.0, 1.0, 3.0, 1.0, 1.0],\n",
       "  [1.0, 1.0, 1.0, 1.0, 2.0, 10.0, 3.0, 1.0, 1.0],\n",
       "  [4.0, 1.0, 1.0, 1.0, 2.0, 1.0, 1.0, 1.0, 1.0],\n",
       "  [5.0, 2.0, 2.0, 2.0, 1.0, 1.0, 2.0, 1.0, 1.0],\n",
       "  [1.0, 1.0, 1.0, 1.0, 2.0, 1.0, 3.0, 1.0, 1.0],\n",
       "  [1.0, 1.0, 3.0, 2.0, 2.0, 1.0, 3.0, 1.0, 1.0],\n",
       "  [2.0, 1.0, 1.0, 1.0, 2.0, 1.0, 1.0, 1.0, 1.0],\n",
       "  [4.0, 1.0, 2.0, 1.0, 2.0, 1.0, 2.0, 1.0, 1.0]],\n",
       " 4: [[9.0, 10.0, 10.0, 10.0, 10.0, 10.0, 10.0, 10.0, 1.0],\n",
       "  [5.0, 3.0, 4.0, 1.0, 8.0, 10.0, 4.0, 9.0, 1.0],\n",
       "  [10.0, 4.0, 3.0, 1.0, 3.0, 3.0, 6.0, 5.0, 2.0],\n",
       "  [6.0, 10.0, 10.0, 10.0, 10.0, 10.0, 8.0, 10.0, 10.0],\n",
       "  [8.0, 7.0, 8.0, 2.0, 4.0, 2.0, 5.0, 10.0, 1.0],\n",
       "  [7.0, 3.0, 2.0, 10.0, 5.0, 10.0, 5.0, 4.0, 4.0],\n",
       "  [5.0, 6.0, 5.0, 6.0, 10.0, 1.0, 3.0, 1.0, 1.0],\n",
       "  [7.0, 8.0, 8.0, 7.0, 3.0, 10.0, 7.0, 2.0, 3.0],\n",
       "  [10.0, 5.0, 7.0, 3.0, 3.0, 7.0, 3.0, 3.0, 8.0],\n",
       "  [7.0, 2.0, 4.0, 1.0, 6.0, 10.0, 5.0, 4.0, 3.0],\n",
       "  [8.0, 4.0, 4.0, 1.0, 6.0, 10.0, 2.0, 5.0, 2.0],\n",
       "  [5.0, 8.0, 8.0, 10.0, 5.0, 10.0, 8.0, 10.0, 3.0],\n",
       "  [10.0, 5.0, 6.0, 10.0, 6.0, 10.0, 7.0, 7.0, 10.0],\n",
       "  [10.0, 1.0, 1.0, 1.0, 2.0, 10.0, 5.0, 4.0, 1.0],\n",
       "  [8.0, 8.0, 9.0, 4.0, 5.0, 10.0, 7.0, 8.0, 1.0],\n",
       "  [8.0, 10.0, 8.0, 8.0, 4.0, 8.0, 7.0, 7.0, 1.0],\n",
       "  [3.0, 10.0, 7.0, 8.0, 5.0, 8.0, 7.0, 4.0, 1.0],\n",
       "  [10.0, 4.0, 3.0, 10.0, 4.0, 10.0, 10.0, 1.0, 1.0],\n",
       "  [9.0, 10.0, 10.0, 1.0, 10.0, 8.0, 3.0, 3.0, 1.0],\n",
       "  [3.0, 4.0, 4.0, 10.0, 5.0, 1.0, 3.0, 3.0, 1.0],\n",
       "  [8.0, 5.0, 5.0, 5.0, 2.0, 10.0, 4.0, 3.0, 1.0],\n",
       "  [2.0, 5.0, 3.0, 3.0, 6.0, 7.0, 7.0, 5.0, 1.0],\n",
       "  [5.0, 3.0, 5.0, 1.0, 8.0, 10.0, 5.0, 3.0, 1.0],\n",
       "  [4.0, 1.0, 1.0, 3.0, 1.0, 5.0, 2.0, 1.0, 1.0],\n",
       "  [1.0, 6.0, 8.0, 10.0, 8.0, 10.0, 5.0, 7.0, 1.0],\n",
       "  [5.0, 10.0, 10.0, 3.0, 7.0, 3.0, 8.0, 10.0, 2.0],\n",
       "  [9.0, 1.0, 2.0, 6.0, 4.0, 10.0, 7.0, 7.0, 2.0],\n",
       "  [8.0, 8.0, 9.0, 6.0, 6.0, 3.0, 10.0, 10.0, 1.0],\n",
       "  [10.0, 10.0, 10.0, 7.0, 10.0, 10.0, 8.0, 2.0, 1.0],\n",
       "  [5.0, 8.0, 9.0, 4.0, 3.0, 10.0, 7.0, 1.0, 1.0],\n",
       "  [10.0, 10.0, 10.0, 10.0, 10.0, 10.0, 4.0, 10.0, 10.0],\n",
       "  [6.0, 10.0, 2.0, 8.0, 10.0, 2.0, 7.0, 8.0, 10.0],\n",
       "  [8.0, 10.0, 10.0, 10.0, 6.0, 10.0, 10.0, 10.0, 1.0],\n",
       "  [10.0, 4.0, 4.0, 10.0, 2.0, 10.0, 5.0, 3.0, 3.0],\n",
       "  [5.0, 6.0, 6.0, 8.0, 6.0, 10.0, 4.0, 10.0, 4.0],\n",
       "  [6.0, 8.0, 7.0, 8.0, 6.0, 8.0, 8.0, 9.0, 1.0],\n",
       "  [8.0, 10.0, 10.0, 1.0, 3.0, 6.0, 3.0, 9.0, 1.0],\n",
       "  [6.0, 10.0, 10.0, 10.0, 8.0, 10.0, 10.0, 10.0, 7.0],\n",
       "  [10.0, 8.0, 7.0, 4.0, 3.0, 10.0, 7.0, 9.0, 1.0],\n",
       "  [5.0, 7.0, 4.0, 1.0, 6.0, 1.0, 7.0, 10.0, 3.0],\n",
       "  [3.0, 10.0, 8.0, 7.0, 6.0, 9.0, 9.0, 3.0, 8.0],\n",
       "  [8.0, 7.0, 8.0, 5.0, 5.0, 10.0, 9.0, 10.0, 1.0],\n",
       "  [6.0, 3.0, 2.0, 1.0, 3.0, 4.0, 4.0, 1.0, 1.0],\n",
       "  [4.0, 8.0, 7.0, 10.0, 4.0, 10.0, 7.0, 5.0, 1.0],\n",
       "  [8.0, 7.0, 6.0, 4.0, 4.0, 10.0, 5.0, 1.0, 1.0]]}"
      ]
     },
     "execution_count": 24,
     "metadata": {},
     "output_type": "execute_result"
    }
   ],
   "source": [
    "test_set"
   ]
  },
  {
   "cell_type": "code",
   "execution_count": 27,
   "metadata": {},
   "outputs": [
    {
     "name": "stdout",
     "output_type": "stream",
     "text": [
      "La eficacia es de =  97.12230215827337\n"
     ]
    }
   ],
   "source": [
    "correct = 0\n",
    "total = 0\n",
    "for group in test_set:\n",
    "    for data in test_set[group]:\n",
    "        vote = k_nearest_neighbors(train_set,data, k=5)\n",
    "        if group == vote:\n",
    "            correct += 1\n",
    "        total += 1 \n",
    "print(\"La eficacia es de = \", correct/total*100)"
   ]
  },
  {
   "cell_type": "code",
   "execution_count": null,
   "metadata": {},
   "outputs": [],
   "source": []
  }
 ],
 "metadata": {
  "kernelspec": {
   "display_name": "Python 3",
   "language": "python",
   "name": "python3"
  },
  "language_info": {
   "codemirror_mode": {
    "name": "ipython",
    "version": 3
   },
   "file_extension": ".py",
   "mimetype": "text/x-python",
   "name": "python",
   "nbconvert_exporter": "python",
   "pygments_lexer": "ipython3",
   "version": "3.7.3"
  }
 },
 "nbformat": 4,
 "nbformat_minor": 2
}
