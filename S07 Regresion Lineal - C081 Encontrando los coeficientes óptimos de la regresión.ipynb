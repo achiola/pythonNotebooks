{
 "cells": [
  {
   "cell_type": "markdown",
   "metadata": {},
   "source": [
    "# Modelos de regresion lineal\n",
    "## Con datos simulados\n",
    "**y = a + b x**\n",
    "\n",
    "X = 100 valores distribuidos segun una N(1.5, 2.5)\n",
    "\n",
    "Ye = 5 + 1.9 * x + e\n",
    "e estará distribuido segun una N(0, 0.8)"
   ]
  },
  {
   "cell_type": "code",
   "execution_count": 1,
   "metadata": {},
   "outputs": [],
   "source": [
    "import pandas as pd\n",
    "import numpy as np\n",
    "import matplotlib.pyplot as plt\n",
    "%matplotlib inline"
   ]
  },
  {
   "cell_type": "code",
   "execution_count": 2,
   "metadata": {},
   "outputs": [],
   "source": [
    "x = 1.5 + 2.5 * np.random.randn(100)"
   ]
  },
  {
   "cell_type": "code",
   "execution_count": 3,
   "metadata": {},
   "outputs": [],
   "source": [
    "res = 0 + 0.8 * np.random.randn(100)"
   ]
  },
  {
   "cell_type": "code",
   "execution_count": 4,
   "metadata": {},
   "outputs": [],
   "source": [
    "y_pred = 5 + 1.9 * x"
   ]
  },
  {
   "cell_type": "code",
   "execution_count": 5,
   "metadata": {},
   "outputs": [],
   "source": [
    "y_act = 5 + 1.9 * x + res"
   ]
  },
  {
   "cell_type": "code",
   "execution_count": 6,
   "metadata": {},
   "outputs": [],
   "source": [
    "x_list = x.tolist()\n",
    "y_pred_list = y_pred.tolist()\n",
    "y_act_list = y_act.tolist()"
   ]
  },
  {
   "cell_type": "code",
   "execution_count": 7,
   "metadata": {},
   "outputs": [],
   "source": [
    "df = pd.DataFrame(\n",
    "    {\n",
    "        \"x\" : x_list,\n",
    "        \"y\" : y_act_list,\n",
    "        \"y_pred\" : y_pred_list\n",
    "    }\n",
    ")"
   ]
  },
  {
   "cell_type": "code",
   "execution_count": 8,
   "metadata": {},
   "outputs": [
    {
     "data": {
      "text/html": [
       "<div>\n",
       "<style scoped>\n",
       "    .dataframe tbody tr th:only-of-type {\n",
       "        vertical-align: middle;\n",
       "    }\n",
       "\n",
       "    .dataframe tbody tr th {\n",
       "        vertical-align: top;\n",
       "    }\n",
       "\n",
       "    .dataframe thead th {\n",
       "        text-align: right;\n",
       "    }\n",
       "</style>\n",
       "<table border=\"1\" class=\"dataframe\">\n",
       "  <thead>\n",
       "    <tr style=\"text-align: right;\">\n",
       "      <th></th>\n",
       "      <th>x</th>\n",
       "      <th>y</th>\n",
       "      <th>y_pred</th>\n",
       "    </tr>\n",
       "  </thead>\n",
       "  <tbody>\n",
       "    <tr>\n",
       "      <th>0</th>\n",
       "      <td>1.268633</td>\n",
       "      <td>8.049971</td>\n",
       "      <td>7.410402</td>\n",
       "    </tr>\n",
       "    <tr>\n",
       "      <th>1</th>\n",
       "      <td>1.662082</td>\n",
       "      <td>9.548981</td>\n",
       "      <td>8.157956</td>\n",
       "    </tr>\n",
       "    <tr>\n",
       "      <th>2</th>\n",
       "      <td>6.464628</td>\n",
       "      <td>15.763055</td>\n",
       "      <td>17.282793</td>\n",
       "    </tr>\n",
       "    <tr>\n",
       "      <th>3</th>\n",
       "      <td>0.996172</td>\n",
       "      <td>8.000841</td>\n",
       "      <td>6.892727</td>\n",
       "    </tr>\n",
       "    <tr>\n",
       "      <th>4</th>\n",
       "      <td>6.196189</td>\n",
       "      <td>16.921565</td>\n",
       "      <td>16.772758</td>\n",
       "    </tr>\n",
       "  </tbody>\n",
       "</table>\n",
       "</div>"
      ],
      "text/plain": [
       "          x          y     y_pred\n",
       "0  1.268633   8.049971   7.410402\n",
       "1  1.662082   9.548981   8.157956\n",
       "2  6.464628  15.763055  17.282793\n",
       "3  0.996172   8.000841   6.892727\n",
       "4  6.196189  16.921565  16.772758"
      ]
     },
     "execution_count": 8,
     "metadata": {},
     "output_type": "execute_result"
    }
   ],
   "source": [
    "df.head()"
   ]
  },
  {
   "cell_type": "code",
   "execution_count": 9,
   "metadata": {},
   "outputs": [],
   "source": [
    "y_mean = [np.mean(y_act) for i in range(1,len(x_list)+1)]"
   ]
  },
  {
   "cell_type": "code",
   "execution_count": 10,
   "metadata": {},
   "outputs": [
    {
     "data": {
      "text/plain": [
       "Text(0.5,1,'Valor Actual vs Prediccion')"
      ]
     },
     "execution_count": 10,
     "metadata": {},
     "output_type": "execute_result"
    },
    {
     "data": {
      "image/png": "[encoded data removed]",
      "text/plain": [
       "<Figure size 432x288 with 1 Axes>"
      ]
     },
     "metadata": {},
     "output_type": "display_data"
    }
   ],
   "source": [
    "plt.plot(x,y_pred)\n",
    "plt.plot(x,y_act,\"ro\")\n",
    "plt.plot(x,y_mean, \"g\")\n",
    "plt.title(\"Valor Actual vs Prediccion\")"
   ]
  },
  {
   "cell_type": "code",
   "execution_count": 11,
   "metadata": {},
   "outputs": [],
   "source": [
    "df[\"SSR\"] = (df[\"y_pred\"] - np.mean(y_act))**2\n",
    "df[\"SSD\"] = (df[\"y_pred\"] - df[\"y\"]) ** 2\n",
    "df[\"SST\"] = (df[\"y\"] - np.mean(y_act)) ** 2"
   ]
  },
  {
   "cell_type": "code",
   "execution_count": 12,
   "metadata": {},
   "outputs": [
    {
     "data": {
      "text/html": [
       "<div>\n",
       "<style scoped>\n",
       "    .dataframe tbody tr th:only-of-type {\n",
       "        vertical-align: middle;\n",
       "    }\n",
       "\n",
       "    .dataframe tbody tr th {\n",
       "        vertical-align: top;\n",
       "    }\n",
       "\n",
       "    .dataframe thead th {\n",
       "        text-align: right;\n",
       "    }\n",
       "</style>\n",
       "<table border=\"1\" class=\"dataframe\">\n",
       "  <thead>\n",
       "    <tr style=\"text-align: right;\">\n",
       "      <th></th>\n",
       "      <th>x</th>\n",
       "      <th>y</th>\n",
       "      <th>y_pred</th>\n",
       "      <th>SSR</th>\n",
       "      <th>SSD</th>\n",
       "      <th>SST</th>\n",
       "    </tr>\n",
       "  </thead>\n",
       "  <tbody>\n",
       "    <tr>\n",
       "      <th>0</th>\n",
       "      <td>1.268633</td>\n",
       "      <td>8.049971</td>\n",
       "      <td>7.410402</td>\n",
       "      <td>0.179755</td>\n",
       "      <td>0.409049</td>\n",
       "      <td>0.046481</td>\n",
       "    </tr>\n",
       "    <tr>\n",
       "      <th>1</th>\n",
       "      <td>1.662082</td>\n",
       "      <td>9.548981</td>\n",
       "      <td>8.157956</td>\n",
       "      <td>0.104703</td>\n",
       "      <td>1.934952</td>\n",
       "      <td>2.939868</td>\n",
       "    </tr>\n",
       "    <tr>\n",
       "      <th>2</th>\n",
       "      <td>6.464628</td>\n",
       "      <td>15.763055</td>\n",
       "      <td>17.282793</td>\n",
       "      <td>89.272572</td>\n",
       "      <td>2.309603</td>\n",
       "      <td>62.863944</td>\n",
       "    </tr>\n",
       "    <tr>\n",
       "      <th>3</th>\n",
       "      <td>0.996172</td>\n",
       "      <td>8.000841</td>\n",
       "      <td>6.892727</td>\n",
       "      <td>0.886704</td>\n",
       "      <td>1.227917</td>\n",
       "      <td>0.027710</td>\n",
       "    </tr>\n",
       "    <tr>\n",
       "      <th>4</th>\n",
       "      <td>6.196189</td>\n",
       "      <td>16.921565</td>\n",
       "      <td>16.772758</td>\n",
       "      <td>79.894663</td>\n",
       "      <td>0.022143</td>\n",
       "      <td>82.576980</td>\n",
       "    </tr>\n",
       "  </tbody>\n",
       "</table>\n",
       "</div>"
      ],
      "text/plain": [
       "          x          y     y_pred        SSR       SSD        SST\n",
       "0  1.268633   8.049971   7.410402   0.179755  0.409049   0.046481\n",
       "1  1.662082   9.548981   8.157956   0.104703  1.934952   2.939868\n",
       "2  6.464628  15.763055  17.282793  89.272572  2.309603  62.863944\n",
       "3  0.996172   8.000841   6.892727   0.886704  1.227917   0.027710\n",
       "4  6.196189  16.921565  16.772758  79.894663  0.022143  82.576980"
      ]
     },
     "execution_count": 12,
     "metadata": {},
     "output_type": "execute_result"
    }
   ],
   "source": [
    "df.head()"
   ]
  },
  {
   "cell_type": "code",
   "execution_count": 13,
   "metadata": {},
   "outputs": [],
   "source": [
    "SSR = sum(df[\"SSR\"])\n",
    "SSD = sum(df[\"SSD\"])\n",
    "SST = sum(df[\"SST\"])"
   ]
  },
  {
   "cell_type": "code",
   "execution_count": 14,
   "metadata": {},
   "outputs": [
    {
     "data": {
      "text/plain": [
       "1964.0431152322187"
      ]
     },
     "execution_count": 14,
     "metadata": {},
     "output_type": "execute_result"
    }
   ],
   "source": [
    "SSR"
   ]
  },
  {
   "cell_type": "code",
   "execution_count": 15,
   "metadata": {},
   "outputs": [
    {
     "data": {
      "text/plain": [
       "47.51813115593564"
      ]
     },
     "execution_count": 15,
     "metadata": {},
     "output_type": "execute_result"
    }
   ],
   "source": [
    "SSD"
   ]
  },
  {
   "cell_type": "code",
   "execution_count": 16,
   "metadata": {},
   "outputs": [
    {
     "data": {
      "text/plain": [
       "1976.548029894889"
      ]
     },
     "execution_count": 16,
     "metadata": {},
     "output_type": "execute_result"
    }
   ],
   "source": [
    "SST"
   ]
  },
  {
   "cell_type": "code",
   "execution_count": 17,
   "metadata": {},
   "outputs": [
    {
     "data": {
      "text/plain": [
       "2011.5612463881544"
      ]
     },
     "execution_count": 17,
     "metadata": {},
     "output_type": "execute_result"
    }
   ],
   "source": [
    "SSR+SSD"
   ]
  },
  {
   "cell_type": "code",
   "execution_count": 18,
   "metadata": {},
   "outputs": [],
   "source": [
    "R2 = SSR / SST"
   ]
  },
  {
   "cell_type": "code",
   "execution_count": 19,
   "metadata": {},
   "outputs": [
    {
     "data": {
      "text/plain": [
       "0.993673356542044"
      ]
     },
     "execution_count": 19,
     "metadata": {},
     "output_type": "execute_result"
    }
   ],
   "source": [
    "R2"
   ]
  },
  {
   "cell_type": "code",
   "execution_count": 20,
   "metadata": {},
   "outputs": [
    {
     "data": {
      "text/plain": [
       "(array([ 3.,  7.,  8., 10., 24., 21.,  9.,  8.,  5.,  5.]),\n",
       " array([-1.60154253, -1.28309978, -0.96465704, -0.64621429, -0.32777154,\n",
       "        -0.0093288 ,  0.30911395,  0.6275567 ,  0.94599944,  1.26444219,\n",
       "         1.58288493]),\n",
       " <a list of 10 Patch objects>)"
      ]
     },
     "execution_count": 20,
     "metadata": {},
     "output_type": "execute_result"
    },
    {
     "data": {
      "image/png": "[encoded data removed]",
      "text/plain": [
       "<Figure size 432x288 with 1 Axes>"
      ]
     },
     "metadata": {},
     "output_type": "display_data"
    }
   ],
   "source": [
    "plt.hist(df[\"y_pred\"] - df[\"y\"])"
   ]
  },
  {
   "cell_type": "markdown",
   "metadata": {},
   "source": [
    "## Obteniendo la recta de regresion"
   ]
  },
  {
   "cell_type": "code",
   "execution_count": 23,
   "metadata": {},
   "outputs": [],
   "source": [
    "x_mean = df[\"x\"].mean()\n",
    "y_mean = df[\"y\"].mean()"
   ]
  },
  {
   "cell_type": "code",
   "execution_count": 25,
   "metadata": {},
   "outputs": [
    {
     "data": {
      "text/plain": [
       "(1.485067400672412, 7.834376884393216)"
      ]
     },
     "execution_count": 25,
     "metadata": {},
     "output_type": "execute_result"
    }
   ],
   "source": [
    "x_mean, y_mean"
   ]
  },
  {
   "cell_type": "code",
   "execution_count": 27,
   "metadata": {},
   "outputs": [],
   "source": [
    "df[\"beta_n\"] = ( df[\"x\"] - x_mean ) * ( df[\"y\"] - y_mean )\n",
    "df[\"beta_d\"] = ( df[\"x\"] - x_mean ) ** 2"
   ]
  },
  {
   "cell_type": "code",
   "execution_count": 28,
   "metadata": {},
   "outputs": [
    {
     "data": {
      "text/html": [
       "<div>\n",
       "<style scoped>\n",
       "    .dataframe tbody tr th:only-of-type {\n",
       "        vertical-align: middle;\n",
       "    }\n",
       "\n",
       "    .dataframe tbody tr th {\n",
       "        vertical-align: top;\n",
       "    }\n",
       "\n",
       "    .dataframe thead th {\n",
       "        text-align: right;\n",
       "    }\n",
       "</style>\n",
       "<table border=\"1\" class=\"dataframe\">\n",
       "  <thead>\n",
       "    <tr style=\"text-align: right;\">\n",
       "      <th></th>\n",
       "      <th>x</th>\n",
       "      <th>y</th>\n",
       "      <th>y_pred</th>\n",
       "      <th>SSR</th>\n",
       "      <th>SSD</th>\n",
       "      <th>SST</th>\n",
       "      <th>beta_n</th>\n",
       "      <th>beta_d</th>\n",
       "    </tr>\n",
       "  </thead>\n",
       "  <tbody>\n",
       "    <tr>\n",
       "      <th>0</th>\n",
       "      <td>1.268633</td>\n",
       "      <td>8.049971</td>\n",
       "      <td>7.410402</td>\n",
       "      <td>0.179755</td>\n",
       "      <td>0.409049</td>\n",
       "      <td>0.046481</td>\n",
       "      <td>-0.046662</td>\n",
       "      <td>0.046844</td>\n",
       "    </tr>\n",
       "    <tr>\n",
       "      <th>1</th>\n",
       "      <td>1.662082</td>\n",
       "      <td>9.548981</td>\n",
       "      <td>8.157956</td>\n",
       "      <td>0.104703</td>\n",
       "      <td>1.934952</td>\n",
       "      <td>2.939868</td>\n",
       "      <td>0.303510</td>\n",
       "      <td>0.031334</td>\n",
       "    </tr>\n",
       "    <tr>\n",
       "      <th>2</th>\n",
       "      <td>6.464628</td>\n",
       "      <td>15.763055</td>\n",
       "      <td>17.282793</td>\n",
       "      <td>89.272572</td>\n",
       "      <td>2.309603</td>\n",
       "      <td>62.863944</td>\n",
       "      <td>39.481336</td>\n",
       "      <td>24.796024</td>\n",
       "    </tr>\n",
       "    <tr>\n",
       "      <th>3</th>\n",
       "      <td>0.996172</td>\n",
       "      <td>8.000841</td>\n",
       "      <td>6.892727</td>\n",
       "      <td>0.886704</td>\n",
       "      <td>1.227917</td>\n",
       "      <td>0.027710</td>\n",
       "      <td>-0.081384</td>\n",
       "      <td>0.239019</td>\n",
       "    </tr>\n",
       "    <tr>\n",
       "      <th>4</th>\n",
       "      <td>6.196189</td>\n",
       "      <td>16.921565</td>\n",
       "      <td>16.772758</td>\n",
       "      <td>79.894663</td>\n",
       "      <td>0.022143</td>\n",
       "      <td>82.576980</td>\n",
       "      <td>42.810843</td>\n",
       "      <td>22.194663</td>\n",
       "    </tr>\n",
       "  </tbody>\n",
       "</table>\n",
       "</div>"
      ],
      "text/plain": [
       "          x          y     y_pred        SSR       SSD        SST     beta_n  \\\n",
       "0  1.268633   8.049971   7.410402   0.179755  0.409049   0.046481  -0.046662   \n",
       "1  1.662082   9.548981   8.157956   0.104703  1.934952   2.939868   0.303510   \n",
       "2  6.464628  15.763055  17.282793  89.272572  2.309603  62.863944  39.481336   \n",
       "3  0.996172   8.000841   6.892727   0.886704  1.227917   0.027710  -0.081384   \n",
       "4  6.196189  16.921565  16.772758  79.894663  0.022143  82.576980  42.810843   \n",
       "\n",
       "      beta_d  \n",
       "0   0.046844  \n",
       "1   0.031334  \n",
       "2  24.796024  \n",
       "3   0.239019  \n",
       "4  22.194663  "
      ]
     },
     "execution_count": 28,
     "metadata": {},
     "output_type": "execute_result"
    }
   ],
   "source": [
    "df.head()"
   ]
  },
  {
   "cell_type": "code",
   "execution_count": 29,
   "metadata": {},
   "outputs": [],
   "source": [
    "beta = df[\"beta_n\"].sum() / df[\"beta_d\"].sum()"
   ]
  },
  {
   "cell_type": "code",
   "execution_count": 31,
   "metadata": {},
   "outputs": [],
   "source": [
    "alpha = y_mean - beta * x_mean"
   ]
  },
  {
   "cell_type": "code",
   "execution_count": 33,
   "metadata": {},
   "outputs": [
    {
     "data": {
      "text/plain": [
       "(5.03787642061344, 1.8830798268910696)"
      ]
     },
     "execution_count": 33,
     "metadata": {},
     "output_type": "execute_result"
    }
   ],
   "source": [
    "alpha, beta"
   ]
  },
  {
   "cell_type": "markdown",
   "metadata": {},
   "source": [
    "# y = 5.03787642061344 + 1.8830798268910696 * X "
   ]
  },
  {
   "cell_type": "code",
   "execution_count": 35,
   "metadata": {},
   "outputs": [],
   "source": [
    "df[\"y_model\"] = alpha + beta * df[\"x\"]"
   ]
  },
  {
   "cell_type": "code",
   "execution_count": 36,
   "metadata": {},
   "outputs": [
    {
     "data": {
      "text/html": [
       "<div>\n",
       "<style scoped>\n",
       "    .dataframe tbody tr th:only-of-type {\n",
       "        vertical-align: middle;\n",
       "    }\n",
       "\n",
       "    .dataframe tbody tr th {\n",
       "        vertical-align: top;\n",
       "    }\n",
       "\n",
       "    .dataframe thead th {\n",
       "        text-align: right;\n",
       "    }\n",
       "</style>\n",
       "<table border=\"1\" class=\"dataframe\">\n",
       "  <thead>\n",
       "    <tr style=\"text-align: right;\">\n",
       "      <th></th>\n",
       "      <th>x</th>\n",
       "      <th>y</th>\n",
       "      <th>y_pred</th>\n",
       "      <th>SSR</th>\n",
       "      <th>SSD</th>\n",
       "      <th>SST</th>\n",
       "      <th>beta_n</th>\n",
       "      <th>beta_d</th>\n",
       "      <th>y_model</th>\n",
       "    </tr>\n",
       "  </thead>\n",
       "  <tbody>\n",
       "    <tr>\n",
       "      <th>0</th>\n",
       "      <td>1.268633</td>\n",
       "      <td>8.049971</td>\n",
       "      <td>7.410402</td>\n",
       "      <td>0.179755</td>\n",
       "      <td>0.409049</td>\n",
       "      <td>0.046481</td>\n",
       "      <td>-0.046662</td>\n",
       "      <td>0.046844</td>\n",
       "      <td>7.426813</td>\n",
       "    </tr>\n",
       "    <tr>\n",
       "      <th>1</th>\n",
       "      <td>1.662082</td>\n",
       "      <td>9.548981</td>\n",
       "      <td>8.157956</td>\n",
       "      <td>0.104703</td>\n",
       "      <td>1.934952</td>\n",
       "      <td>2.939868</td>\n",
       "      <td>0.303510</td>\n",
       "      <td>0.031334</td>\n",
       "      <td>8.167709</td>\n",
       "    </tr>\n",
       "    <tr>\n",
       "      <th>2</th>\n",
       "      <td>6.464628</td>\n",
       "      <td>15.763055</td>\n",
       "      <td>17.282793</td>\n",
       "      <td>89.272572</td>\n",
       "      <td>2.309603</td>\n",
       "      <td>62.863944</td>\n",
       "      <td>39.481336</td>\n",
       "      <td>24.796024</td>\n",
       "      <td>17.211287</td>\n",
       "    </tr>\n",
       "    <tr>\n",
       "      <th>3</th>\n",
       "      <td>0.996172</td>\n",
       "      <td>8.000841</td>\n",
       "      <td>6.892727</td>\n",
       "      <td>0.886704</td>\n",
       "      <td>1.227917</td>\n",
       "      <td>0.027710</td>\n",
       "      <td>-0.081384</td>\n",
       "      <td>0.239019</td>\n",
       "      <td>6.913748</td>\n",
       "    </tr>\n",
       "    <tr>\n",
       "      <th>4</th>\n",
       "      <td>6.196189</td>\n",
       "      <td>16.921565</td>\n",
       "      <td>16.772758</td>\n",
       "      <td>79.894663</td>\n",
       "      <td>0.022143</td>\n",
       "      <td>82.576980</td>\n",
       "      <td>42.810843</td>\n",
       "      <td>22.194663</td>\n",
       "      <td>16.705794</td>\n",
       "    </tr>\n",
       "  </tbody>\n",
       "</table>\n",
       "</div>"
      ],
      "text/plain": [
       "          x          y     y_pred        SSR       SSD        SST     beta_n  \\\n",
       "0  1.268633   8.049971   7.410402   0.179755  0.409049   0.046481  -0.046662   \n",
       "1  1.662082   9.548981   8.157956   0.104703  1.934952   2.939868   0.303510   \n",
       "2  6.464628  15.763055  17.282793  89.272572  2.309603  62.863944  39.481336   \n",
       "3  0.996172   8.000841   6.892727   0.886704  1.227917   0.027710  -0.081384   \n",
       "4  6.196189  16.921565  16.772758  79.894663  0.022143  82.576980  42.810843   \n",
       "\n",
       "      beta_d    y_model  \n",
       "0   0.046844   7.426813  \n",
       "1   0.031334   8.167709  \n",
       "2  24.796024  17.211287  \n",
       "3   0.239019   6.913748  \n",
       "4  22.194663  16.705794  "
      ]
     },
     "execution_count": 36,
     "metadata": {},
     "output_type": "execute_result"
    }
   ],
   "source": [
    "df.head()"
   ]
  },
  {
   "cell_type": "code",
   "execution_count": 37,
   "metadata": {},
   "outputs": [],
   "source": [
    "SSR_model = sum((df[\"y_model\"] - y_mean)**2)\n",
    "SSD_model = sum((df[\"y_model\"] - df[\"y\"]) ** 2)\n",
    "SST_model = sum((df[\"y\"] - y_mean) ** 2)"
   ]
  },
  {
   "cell_type": "code",
   "execution_count": 38,
   "metadata": {},
   "outputs": [
    {
     "data": {
      "text/plain": [
       "(1929.201909795562, 47.346120099328495, 1976.5480298948892)"
      ]
     },
     "execution_count": 38,
     "metadata": {},
     "output_type": "execute_result"
    }
   ],
   "source": [
    "SSR_model, SSD_model, SST_model"
   ]
  },
  {
   "cell_type": "code",
   "execution_count": 40,
   "metadata": {},
   "outputs": [],
   "source": [
    "R2_model = SSR_model/SST_model"
   ]
  },
  {
   "cell_type": "code",
   "execution_count": 41,
   "metadata": {},
   "outputs": [
    {
     "data": {
      "text/plain": [
       "(0.993673356542044, 0.9760460563653265)"
      ]
     },
     "execution_count": 41,
     "metadata": {},
     "output_type": "execute_result"
    }
   ],
   "source": [
    "R2,R2_model"
   ]
  },
  {
   "cell_type": "code",
   "execution_count": 46,
   "metadata": {},
   "outputs": [
    {
     "data": {
      "text/plain": [
       "Text(0.5,1,'Valor Actual vs Prediccion')"
      ]
     },
     "execution_count": 46,
     "metadata": {},
     "output_type": "execute_result"
    },
    {
     "data": {
      "image/png": "[encoded data removed]",
      "text/plain": [
       "<Figure size 432x288 with 1 Axes>"
      ]
     },
     "metadata": {},
     "output_type": "display_data"
    }
   ],
   "source": [
    "y_mean = [np.mean(y_act) for i in range(1,len(x_list)+1)]\n",
    "plt.plot(df[\"x\"],df[\"y_pred\"])\n",
    "plt.plot(df[\"x\"],df[\"y\"],\"ro\")\n",
    "plt.plot(df[\"x\"],y_mean, \"g\")\n",
    "plt.plot(df[\"x\"],df[\"y_model\"],\"y\")\n",
    "plt.title(\"Valor Actual vs Prediccion\")"
   ]
  },
  {
   "cell_type": "code",
   "execution_count": null,
   "metadata": {},
   "outputs": [],
   "source": []
  }
 ],
 "metadata": {
  "kernelspec": {
   "display_name": "Python 3",
   "language": "python",
   "name": "python3"
  },
  "language_info": {
   "codemirror_mode": {
    "name": "ipython",
    "version": 3
   },
   "file_extension": ".py",
   "mimetype": "text/x-python",
   "name": "python",
   "nbconvert_exporter": "python",
   "pygments_lexer": "ipython3",
   "version": "3.6.5"
  }
 },
 "nbformat": 4,
 "nbformat_minor": 2
}
