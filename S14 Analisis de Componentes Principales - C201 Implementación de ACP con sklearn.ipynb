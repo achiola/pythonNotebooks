{
 "cells": [
  {
   "cell_type": "code",
   "execution_count": 3,
   "metadata": {},
   "outputs": [],
   "source": [
    "import numpy as np\n",
    "import pandas as pd\n",
    "\n",
    "import chart_studio.plotly.plotly as py\n",
    "from chart_studio.grid_objs import *\n",
    "import chart_studio.tools as tls\n",
    "import plotly.graph_objects as ir\n",
    "\n",
    "from sklearn.preprocessing import StandardScaler\n",
    "\n",
    "tls.set_credentials_file(username='achiola', api_key='UvJk1Uk9IytDxgO8aF7O')"
   ]
  },
  {
   "cell_type": "code",
   "execution_count": 4,
   "metadata": {},
   "outputs": [],
   "source": [
    "df = pd.read_csv(\"../../python-ml-course-master/datasets/iris/iris.csv\")"
   ]
  },
  {
   "cell_type": "code",
   "execution_count": 5,
   "metadata": {},
   "outputs": [],
   "source": [
    "X = df.iloc[:,0:4].values\n",
    "y = df.iloc[:,4].values\n",
    "X_std = StandardScaler().fit_transform(X)"
   ]
  },
  {
   "cell_type": "code",
   "execution_count": 9,
   "metadata": {},
   "outputs": [],
   "source": [
    "from sklearn.decomposition import PCA as sk_pca"
   ]
  },
  {
   "cell_type": "code",
   "execution_count": 10,
   "metadata": {},
   "outputs": [],
   "source": [
    "acp = sk_pca(n_components=2)\n",
    "Y = acp.fit_transform(X_std)"
   ]
  },
  {
   "cell_type": "code",
   "execution_count": 20,
   "metadata": {},
   "outputs": [
    {
     "data": {
      "text/html": [
       "\n",
       "        <iframe\n",
       "            width=\"100%\"\n",
       "            height=\"525px\"\n",
       "            src=\"https://plot.ly/~achiola/55.embed\"\n",
       "            frameborder=\"0\"\n",
       "            allowfullscreen\n",
       "        ></iframe>\n",
       "        "
      ],
      "text/plain": [
       "<IPython.lib.display.IFrame at 0x1c4580597b8>"
      ]
     },
     "execution_count": 20,
     "metadata": {},
     "output_type": "execute_result"
    }
   ],
   "source": [
    "results = []\n",
    "\n",
    "for name in (\"setosa\", \"versicolor\", \"virginica\"):\n",
    "    result = ir.Scatter(x=Y[y==name,0], y=Y[y==name, 1], mode=\"markers\", name=name, \n",
    "                        marker=ir.Marker(size=8,line=ir.Line(color='rgba(225,225,225,0.2)', width=0.5),\n",
    "                                        opacity=0.75))\n",
    "    results.append(result)\n",
    "\n",
    "data = ir.Data(results)\n",
    "layout = ir.Layout(showlegend=True, scene=ir.Scene(xaxis=ir.XAxis(title=\"Componente Principal 1\",showline=False),\n",
    "                                                  yaxis=ir.YAxis(title=\"Componente Principal 2\", showline=False)))\n",
    "fig = ir.Figure(data=data,layout=layout)\n",
    "py.iplot(fig)"
   ]
  },
  {
   "cell_type": "code",
   "execution_count": null,
   "metadata": {},
   "outputs": [],
   "source": [
    " "
   ]
  }
 ],
 "metadata": {
  "kernelspec": {
   "display_name": "Python 3",
   "language": "python",
   "name": "python3"
  },
  "language_info": {
   "codemirror_mode": {
    "name": "ipython",
    "version": 3
   },
   "file_extension": ".py",
   "mimetype": "text/x-python",
   "name": "python",
   "nbconvert_exporter": "python",
   "pygments_lexer": "ipython3",
   "version": "3.7.3"
  }
 },
 "nbformat": 4,
 "nbformat_minor": 2
}
