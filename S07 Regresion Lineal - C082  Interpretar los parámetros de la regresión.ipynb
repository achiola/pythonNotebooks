{
 "cells": [
  {
   "cell_type": "markdown",
   "metadata": {},
   "source": [
    "# Modelos de regresion lineal\n",
    "## Con datos simulados\n",
    "**y = a + b x**\n",
    "\n",
    "X = 100 valores distribuidos segun una N(1.5, 2.5)\n",
    "\n",
    "Ye = 5 + 1.9 * x + e\n",
    "e estará distribuido segun una N(0, 0.8)"
   ]
  },
  {
   "cell_type": "code",
   "execution_count": 1,
   "metadata": {},
   "outputs": [],
   "source": [
    "import pandas as pd\n",
    "import numpy as np\n",
    "import matplotlib.pyplot as plt\n",
    "%matplotlib inline"
   ]
  },
  {
   "cell_type": "code",
   "execution_count": 2,
   "metadata": {},
   "outputs": [],
   "source": [
    "x = 1.5 + 2.5 * np.random.randn(100)"
   ]
  },
  {
   "cell_type": "code",
   "execution_count": 3,
   "metadata": {},
   "outputs": [],
   "source": [
    "res = 0 + 0.8 * np.random.randn(100)"
   ]
  },
  {
   "cell_type": "code",
   "execution_count": 4,
   "metadata": {},
   "outputs": [],
   "source": [
    "y_pred = 5 + 1.9 * x"
   ]
  },
  {
   "cell_type": "code",
   "execution_count": 5,
   "metadata": {},
   "outputs": [],
   "source": [
    "y_act = 5 + 1.9 * x + res"
   ]
  },
  {
   "cell_type": "code",
   "execution_count": 6,
   "metadata": {},
   "outputs": [],
   "source": [
    "x_list = x.tolist()\n",
    "y_pred_list = y_pred.tolist()\n",
    "y_act_list = y_act.tolist()"
   ]
  },
  {
   "cell_type": "code",
   "execution_count": 7,
   "metadata": {},
   "outputs": [],
   "source": [
    "df = pd.DataFrame(\n",
    "    {\n",
    "        \"x\" : x_list,\n",
    "        \"y\" : y_act_list,\n",
    "        \"y_pred\" : y_pred_list\n",
    "    }\n",
    ")"
   ]
  },
  {
   "cell_type": "code",
   "execution_count": 8,
   "metadata": {},
   "outputs": [
    {
     "data": {
      "text/html": [
       "<div>\n",
       "<style scoped>\n",
       "    .dataframe tbody tr th:only-of-type {\n",
       "        vertical-align: middle;\n",
       "    }\n",
       "\n",
       "    .dataframe tbody tr th {\n",
       "        vertical-align: top;\n",
       "    }\n",
       "\n",
       "    .dataframe thead th {\n",
       "        text-align: right;\n",
       "    }\n",
       "</style>\n",
       "<table border=\"1\" class=\"dataframe\">\n",
       "  <thead>\n",
       "    <tr style=\"text-align: right;\">\n",
       "      <th></th>\n",
       "      <th>x</th>\n",
       "      <th>y</th>\n",
       "      <th>y_pred</th>\n",
       "    </tr>\n",
       "  </thead>\n",
       "  <tbody>\n",
       "    <tr>\n",
       "      <th>0</th>\n",
       "      <td>-2.499543</td>\n",
       "      <td>1.018655</td>\n",
       "      <td>0.250868</td>\n",
       "    </tr>\n",
       "    <tr>\n",
       "      <th>1</th>\n",
       "      <td>3.005583</td>\n",
       "      <td>11.882384</td>\n",
       "      <td>10.710608</td>\n",
       "    </tr>\n",
       "    <tr>\n",
       "      <th>2</th>\n",
       "      <td>2.266195</td>\n",
       "      <td>10.017372</td>\n",
       "      <td>9.305771</td>\n",
       "    </tr>\n",
       "    <tr>\n",
       "      <th>3</th>\n",
       "      <td>1.390204</td>\n",
       "      <td>9.621167</td>\n",
       "      <td>7.641388</td>\n",
       "    </tr>\n",
       "    <tr>\n",
       "      <th>4</th>\n",
       "      <td>0.618834</td>\n",
       "      <td>7.443355</td>\n",
       "      <td>6.175784</td>\n",
       "    </tr>\n",
       "  </tbody>\n",
       "</table>\n",
       "</div>"
      ],
      "text/plain": [
       "          x          y     y_pred\n",
       "0 -2.499543   1.018655   0.250868\n",
       "1  3.005583  11.882384  10.710608\n",
       "2  2.266195  10.017372   9.305771\n",
       "3  1.390204   9.621167   7.641388\n",
       "4  0.618834   7.443355   6.175784"
      ]
     },
     "execution_count": 8,
     "metadata": {},
     "output_type": "execute_result"
    }
   ],
   "source": [
    "df.head()"
   ]
  },
  {
   "cell_type": "code",
   "execution_count": 9,
   "metadata": {},
   "outputs": [],
   "source": [
    "y_mean = [np.mean(y_act) for i in range(1,len(x_list)+1)]"
   ]
  },
  {
   "cell_type": "code",
   "execution_count": 10,
   "metadata": {},
   "outputs": [
    {
     "data": {
      "text/plain": [
       "Text(0.5,1,'Valor Actual vs Prediccion')"
      ]
     },
     "execution_count": 10,
     "metadata": {},
     "output_type": "execute_result"
    },
    {
     "data": {
      "image/png": "[encoded data removed]",
      "text/plain": [
       "<Figure size 432x288 with 1 Axes>"
      ]
     },
     "metadata": {},
     "output_type": "display_data"
    }
   ],
   "source": [
    "plt.plot(x,y_pred)\n",
    "plt.plot(x,y_act,\"ro\")\n",
    "plt.plot(x,y_mean, \"g\")\n",
    "plt.title(\"Valor Actual vs Prediccion\")"
   ]
  },
  {
   "cell_type": "code",
   "execution_count": 11,
   "metadata": {},
   "outputs": [],
   "source": [
    "df[\"SSR\"] = (df[\"y_pred\"] - np.mean(y_act))**2\n",
    "df[\"SSD\"] = (df[\"y_pred\"] - df[\"y\"]) ** 2\n",
    "df[\"SST\"] = (df[\"y\"] - np.mean(y_act)) ** 2"
   ]
  },
  {
   "cell_type": "code",
   "execution_count": 12,
   "metadata": {},
   "outputs": [
    {
     "data": {
      "text/html": [
       "<div>\n",
       "<style scoped>\n",
       "    .dataframe tbody tr th:only-of-type {\n",
       "        vertical-align: middle;\n",
       "    }\n",
       "\n",
       "    .dataframe tbody tr th {\n",
       "        vertical-align: top;\n",
       "    }\n",
       "\n",
       "    .dataframe thead th {\n",
       "        text-align: right;\n",
       "    }\n",
       "</style>\n",
       "<table border=\"1\" class=\"dataframe\">\n",
       "  <thead>\n",
       "    <tr style=\"text-align: right;\">\n",
       "      <th></th>\n",
       "      <th>x</th>\n",
       "      <th>y</th>\n",
       "      <th>y_pred</th>\n",
       "      <th>SSR</th>\n",
       "      <th>SSD</th>\n",
       "      <th>SST</th>\n",
       "    </tr>\n",
       "  </thead>\n",
       "  <tbody>\n",
       "    <tr>\n",
       "      <th>0</th>\n",
       "      <td>-2.499543</td>\n",
       "      <td>1.018655</td>\n",
       "      <td>0.250868</td>\n",
       "      <td>59.490288</td>\n",
       "      <td>0.589496</td>\n",
       "      <td>48.235916</td>\n",
       "    </tr>\n",
       "    <tr>\n",
       "      <th>1</th>\n",
       "      <td>3.005583</td>\n",
       "      <td>11.882384</td>\n",
       "      <td>10.710608</td>\n",
       "      <td>7.544608</td>\n",
       "      <td>1.373058</td>\n",
       "      <td>15.354803</td>\n",
       "    </tr>\n",
       "    <tr>\n",
       "      <th>2</th>\n",
       "      <td>2.266195</td>\n",
       "      <td>10.017372</td>\n",
       "      <td>9.305771</td>\n",
       "      <td>1.800717</td>\n",
       "      <td>0.506376</td>\n",
       "      <td>4.216900</td>\n",
       "    </tr>\n",
       "    <tr>\n",
       "      <th>3</th>\n",
       "      <td>1.390204</td>\n",
       "      <td>9.621167</td>\n",
       "      <td>7.641388</td>\n",
       "      <td>0.103990</td>\n",
       "      <td>3.919523</td>\n",
       "      <td>2.746656</td>\n",
       "    </tr>\n",
       "    <tr>\n",
       "      <th>4</th>\n",
       "      <td>0.618834</td>\n",
       "      <td>7.443355</td>\n",
       "      <td>6.175784</td>\n",
       "      <td>3.197227</td>\n",
       "      <td>1.606738</td>\n",
       "      <td>0.270928</td>\n",
       "    </tr>\n",
       "  </tbody>\n",
       "</table>\n",
       "</div>"
      ],
      "text/plain": [
       "          x          y     y_pred        SSR       SSD        SST\n",
       "0 -2.499543   1.018655   0.250868  59.490288  0.589496  48.235916\n",
       "1  3.005583  11.882384  10.710608   7.544608  1.373058  15.354803\n",
       "2  2.266195  10.017372   9.305771   1.800717  0.506376   4.216900\n",
       "3  1.390204   9.621167   7.641388   0.103990  3.919523   2.746656\n",
       "4  0.618834   7.443355   6.175784   3.197227  1.606738   0.270928"
      ]
     },
     "execution_count": 12,
     "metadata": {},
     "output_type": "execute_result"
    }
   ],
   "source": [
    "df.head()"
   ]
  },
  {
   "cell_type": "code",
   "execution_count": 13,
   "metadata": {},
   "outputs": [],
   "source": [
    "SSR = sum(df[\"SSR\"])\n",
    "SSD = sum(df[\"SSD\"])\n",
    "SST = sum(df[\"SST\"])"
   ]
  },
  {
   "cell_type": "code",
   "execution_count": 14,
   "metadata": {},
   "outputs": [
    {
     "data": {
      "text/plain": [
       "2567.663591826851"
      ]
     },
     "execution_count": 14,
     "metadata": {},
     "output_type": "execute_result"
    }
   ],
   "source": [
    "SSR"
   ]
  },
  {
   "cell_type": "code",
   "execution_count": 15,
   "metadata": {},
   "outputs": [
    {
     "data": {
      "text/plain": [
       "79.87214463966431"
      ]
     },
     "execution_count": 15,
     "metadata": {},
     "output_type": "execute_result"
    }
   ],
   "source": [
    "SSD"
   ]
  },
  {
   "cell_type": "code",
   "execution_count": 16,
   "metadata": {},
   "outputs": [
    {
     "data": {
      "text/plain": [
       "2540.011624333504"
      ]
     },
     "execution_count": 16,
     "metadata": {},
     "output_type": "execute_result"
    }
   ],
   "source": [
    "SST"
   ]
  },
  {
   "cell_type": "code",
   "execution_count": 17,
   "metadata": {},
   "outputs": [
    {
     "data": {
      "text/plain": [
       "2647.5357364665156"
      ]
     },
     "execution_count": 17,
     "metadata": {},
     "output_type": "execute_result"
    }
   ],
   "source": [
    "SSR+SSD"
   ]
  },
  {
   "cell_type": "code",
   "execution_count": 18,
   "metadata": {},
   "outputs": [],
   "source": [
    "R2 = SSR / SST"
   ]
  },
  {
   "cell_type": "code",
   "execution_count": 19,
   "metadata": {},
   "outputs": [
    {
     "data": {
      "text/plain": [
       "1.0108865515529295"
      ]
     },
     "execution_count": 19,
     "metadata": {},
     "output_type": "execute_result"
    }
   ],
   "source": [
    "R2"
   ]
  },
  {
   "cell_type": "code",
   "execution_count": 20,
   "metadata": {},
   "outputs": [
    {
     "data": {
      "text/plain": [
       "(array([ 4.,  3.,  7., 10., 17., 24.,  9., 13.,  9.,  4.]),\n",
       " array([-2.27824868, -1.86803887, -1.45782905, -1.04761924, -0.63740942,\n",
       "        -0.22719961,  0.18301021,  0.59322002,  1.00342984,  1.41363965,\n",
       "         1.82384947]),\n",
       " <a list of 10 Patch objects>)"
      ]
     },
     "execution_count": 20,
     "metadata": {},
     "output_type": "execute_result"
    },
    {
     "data": {
      "image/png": "[encoded data removed]",
      "text/plain": [
       "<Figure size 432x288 with 1 Axes>"
      ]
     },
     "metadata": {},
     "output_type": "display_data"
    }
   ],
   "source": [
    "plt.hist(df[\"y_pred\"] - df[\"y\"])"
   ]
  },
  {
   "cell_type": "markdown",
   "metadata": {},
   "source": [
    "## Obteniendo la recta de regresion"
   ]
  },
  {
   "cell_type": "code",
   "execution_count": 21,
   "metadata": {},
   "outputs": [],
   "source": [
    "x_mean = df[\"x\"].mean()\n",
    "y_mean = df[\"y\"].mean()"
   ]
  },
  {
   "cell_type": "code",
   "execution_count": 22,
   "metadata": {},
   "outputs": [
    {
     "data": {
      "text/plain": [
       "(1.5272072661876166, 7.963863112244112)"
      ]
     },
     "execution_count": 22,
     "metadata": {},
     "output_type": "execute_result"
    }
   ],
   "source": [
    "x_mean, y_mean"
   ]
  },
  {
   "cell_type": "code",
   "execution_count": 23,
   "metadata": {},
   "outputs": [],
   "source": [
    "df[\"beta_n\"] = ( df[\"x\"] - x_mean ) * ( df[\"y\"] - y_mean )\n",
    "df[\"beta_d\"] = ( df[\"x\"] - x_mean ) ** 2"
   ]
  },
  {
   "cell_type": "code",
   "execution_count": 24,
   "metadata": {},
   "outputs": [
    {
     "data": {
      "text/html": [
       "<div>\n",
       "<style scoped>\n",
       "    .dataframe tbody tr th:only-of-type {\n",
       "        vertical-align: middle;\n",
       "    }\n",
       "\n",
       "    .dataframe tbody tr th {\n",
       "        vertical-align: top;\n",
       "    }\n",
       "\n",
       "    .dataframe thead th {\n",
       "        text-align: right;\n",
       "    }\n",
       "</style>\n",
       "<table border=\"1\" class=\"dataframe\">\n",
       "  <thead>\n",
       "    <tr style=\"text-align: right;\">\n",
       "      <th></th>\n",
       "      <th>x</th>\n",
       "      <th>y</th>\n",
       "      <th>y_pred</th>\n",
       "      <th>SSR</th>\n",
       "      <th>SSD</th>\n",
       "      <th>SST</th>\n",
       "      <th>beta_n</th>\n",
       "      <th>beta_d</th>\n",
       "    </tr>\n",
       "  </thead>\n",
       "  <tbody>\n",
       "    <tr>\n",
       "      <th>0</th>\n",
       "      <td>-2.499543</td>\n",
       "      <td>1.018655</td>\n",
       "      <td>0.250868</td>\n",
       "      <td>59.490288</td>\n",
       "      <td>0.589496</td>\n",
       "      <td>48.235916</td>\n",
       "      <td>27.966619</td>\n",
       "      <td>16.214717</td>\n",
       "    </tr>\n",
       "    <tr>\n",
       "      <th>1</th>\n",
       "      <td>3.005583</td>\n",
       "      <td>11.882384</td>\n",
       "      <td>10.710608</td>\n",
       "      <td>7.544608</td>\n",
       "      <td>1.373058</td>\n",
       "      <td>15.354803</td>\n",
       "      <td>5.793047</td>\n",
       "      <td>2.185596</td>\n",
       "    </tr>\n",
       "    <tr>\n",
       "      <th>2</th>\n",
       "      <td>2.266195</td>\n",
       "      <td>10.017372</td>\n",
       "      <td>9.305771</td>\n",
       "      <td>1.800717</td>\n",
       "      <td>0.506376</td>\n",
       "      <td>4.216900</td>\n",
       "      <td>1.517519</td>\n",
       "      <td>0.546103</td>\n",
       "    </tr>\n",
       "    <tr>\n",
       "      <th>3</th>\n",
       "      <td>1.390204</td>\n",
       "      <td>9.621167</td>\n",
       "      <td>7.641388</td>\n",
       "      <td>0.103990</td>\n",
       "      <td>3.919523</td>\n",
       "      <td>2.746656</td>\n",
       "      <td>-0.227055</td>\n",
       "      <td>0.018770</td>\n",
       "    </tr>\n",
       "    <tr>\n",
       "      <th>4</th>\n",
       "      <td>0.618834</td>\n",
       "      <td>7.443355</td>\n",
       "      <td>6.175784</td>\n",
       "      <td>3.197227</td>\n",
       "      <td>1.606738</td>\n",
       "      <td>0.270928</td>\n",
       "      <td>0.472815</td>\n",
       "      <td>0.825143</td>\n",
       "    </tr>\n",
       "  </tbody>\n",
       "</table>\n",
       "</div>"
      ],
      "text/plain": [
       "          x          y     y_pred        SSR       SSD        SST     beta_n  \\\n",
       "0 -2.499543   1.018655   0.250868  59.490288  0.589496  48.235916  27.966619   \n",
       "1  3.005583  11.882384  10.710608   7.544608  1.373058  15.354803   5.793047   \n",
       "2  2.266195  10.017372   9.305771   1.800717  0.506376   4.216900   1.517519   \n",
       "3  1.390204   9.621167   7.641388   0.103990  3.919523   2.746656  -0.227055   \n",
       "4  0.618834   7.443355   6.175784   3.197227  1.606738   0.270928   0.472815   \n",
       "\n",
       "      beta_d  \n",
       "0  16.214717  \n",
       "1   2.185596  \n",
       "2   0.546103  \n",
       "3   0.018770  \n",
       "4   0.825143  "
      ]
     },
     "execution_count": 24,
     "metadata": {},
     "output_type": "execute_result"
    }
   ],
   "source": [
    "df.head()"
   ]
  },
  {
   "cell_type": "code",
   "execution_count": 25,
   "metadata": {},
   "outputs": [],
   "source": [
    "beta = df[\"beta_n\"].sum() / df[\"beta_d\"].sum()"
   ]
  },
  {
   "cell_type": "code",
   "execution_count": 26,
   "metadata": {},
   "outputs": [],
   "source": [
    "alpha = y_mean - beta * x_mean"
   ]
  },
  {
   "cell_type": "code",
   "execution_count": 27,
   "metadata": {},
   "outputs": [
    {
     "data": {
      "text/plain": [
       "(5.122497626507681, 1.8604976211443522)"
      ]
     },
     "execution_count": 27,
     "metadata": {},
     "output_type": "execute_result"
    }
   ],
   "source": [
    "alpha, beta"
   ]
  },
  {
   "cell_type": "markdown",
   "metadata": {},
   "source": [
    "# y = 5.03787642061344 + 1.8830798268910696 * X "
   ]
  },
  {
   "cell_type": "code",
   "execution_count": 28,
   "metadata": {},
   "outputs": [],
   "source": [
    "df[\"y_model\"] = alpha + beta * df[\"x\"]"
   ]
  },
  {
   "cell_type": "code",
   "execution_count": 29,
   "metadata": {},
   "outputs": [
    {
     "data": {
      "text/html": [
       "<div>\n",
       "<style scoped>\n",
       "    .dataframe tbody tr th:only-of-type {\n",
       "        vertical-align: middle;\n",
       "    }\n",
       "\n",
       "    .dataframe tbody tr th {\n",
       "        vertical-align: top;\n",
       "    }\n",
       "\n",
       "    .dataframe thead th {\n",
       "        text-align: right;\n",
       "    }\n",
       "</style>\n",
       "<table border=\"1\" class=\"dataframe\">\n",
       "  <thead>\n",
       "    <tr style=\"text-align: right;\">\n",
       "      <th></th>\n",
       "      <th>x</th>\n",
       "      <th>y</th>\n",
       "      <th>y_pred</th>\n",
       "      <th>SSR</th>\n",
       "      <th>SSD</th>\n",
       "      <th>SST</th>\n",
       "      <th>beta_n</th>\n",
       "      <th>beta_d</th>\n",
       "      <th>y_model</th>\n",
       "    </tr>\n",
       "  </thead>\n",
       "  <tbody>\n",
       "    <tr>\n",
       "      <th>0</th>\n",
       "      <td>-2.499543</td>\n",
       "      <td>1.018655</td>\n",
       "      <td>0.250868</td>\n",
       "      <td>59.490288</td>\n",
       "      <td>0.589496</td>\n",
       "      <td>48.235916</td>\n",
       "      <td>27.966619</td>\n",
       "      <td>16.214717</td>\n",
       "      <td>0.472104</td>\n",
       "    </tr>\n",
       "    <tr>\n",
       "      <th>1</th>\n",
       "      <td>3.005583</td>\n",
       "      <td>11.882384</td>\n",
       "      <td>10.710608</td>\n",
       "      <td>7.544608</td>\n",
       "      <td>1.373058</td>\n",
       "      <td>15.354803</td>\n",
       "      <td>5.793047</td>\n",
       "      <td>2.185596</td>\n",
       "      <td>10.714378</td>\n",
       "    </tr>\n",
       "    <tr>\n",
       "      <th>2</th>\n",
       "      <td>2.266195</td>\n",
       "      <td>10.017372</td>\n",
       "      <td>9.305771</td>\n",
       "      <td>1.800717</td>\n",
       "      <td>0.506376</td>\n",
       "      <td>4.216900</td>\n",
       "      <td>1.517519</td>\n",
       "      <td>0.546103</td>\n",
       "      <td>9.338749</td>\n",
       "    </tr>\n",
       "    <tr>\n",
       "      <th>3</th>\n",
       "      <td>1.390204</td>\n",
       "      <td>9.621167</td>\n",
       "      <td>7.641388</td>\n",
       "      <td>0.103990</td>\n",
       "      <td>3.919523</td>\n",
       "      <td>2.746656</td>\n",
       "      <td>-0.227055</td>\n",
       "      <td>0.018770</td>\n",
       "      <td>7.708969</td>\n",
       "    </tr>\n",
       "    <tr>\n",
       "      <th>4</th>\n",
       "      <td>0.618834</td>\n",
       "      <td>7.443355</td>\n",
       "      <td>6.175784</td>\n",
       "      <td>3.197227</td>\n",
       "      <td>1.606738</td>\n",
       "      <td>0.270928</td>\n",
       "      <td>0.472815</td>\n",
       "      <td>0.825143</td>\n",
       "      <td>6.273836</td>\n",
       "    </tr>\n",
       "  </tbody>\n",
       "</table>\n",
       "</div>"
      ],
      "text/plain": [
       "          x          y     y_pred        SSR       SSD        SST     beta_n  \\\n",
       "0 -2.499543   1.018655   0.250868  59.490288  0.589496  48.235916  27.966619   \n",
       "1  3.005583  11.882384  10.710608   7.544608  1.373058  15.354803   5.793047   \n",
       "2  2.266195  10.017372   9.305771   1.800717  0.506376   4.216900   1.517519   \n",
       "3  1.390204   9.621167   7.641388   0.103990  3.919523   2.746656  -0.227055   \n",
       "4  0.618834   7.443355   6.175784   3.197227  1.606738   0.270928   0.472815   \n",
       "\n",
       "      beta_d    y_model  \n",
       "0  16.214717   0.472104  \n",
       "1   2.185596  10.714378  \n",
       "2   0.546103   9.338749  \n",
       "3   0.018770   7.708969  \n",
       "4   0.825143   6.273836  "
      ]
     },
     "execution_count": 29,
     "metadata": {},
     "output_type": "execute_result"
    }
   ],
   "source": [
    "df.head()"
   ]
  },
  {
   "cell_type": "code",
   "execution_count": 30,
   "metadata": {},
   "outputs": [],
   "source": [
    "SSR_model = sum((df[\"y_model\"] - y_mean)**2)\n",
    "SSD_model = sum((df[\"y_model\"] - df[\"y\"]) ** 2)\n",
    "SST_model = sum((df[\"y\"] - y_mean) ** 2)"
   ]
  },
  {
   "cell_type": "code",
   "execution_count": 31,
   "metadata": {},
   "outputs": [
    {
     "data": {
      "text/plain": [
       "(2461.6356984596096, 78.37592587389548, 2540.0116243335037)"
      ]
     },
     "execution_count": 31,
     "metadata": {},
     "output_type": "execute_result"
    }
   ],
   "source": [
    "SSR_model, SSD_model, SST_model"
   ]
  },
  {
   "cell_type": "code",
   "execution_count": 32,
   "metadata": {},
   "outputs": [],
   "source": [
    "R2_model = SSR_model/SST_model"
   ]
  },
  {
   "cell_type": "code",
   "execution_count": 33,
   "metadata": {},
   "outputs": [
    {
     "data": {
      "text/plain": [
       "(1.0108865515529295, 0.9691434774852812)"
      ]
     },
     "execution_count": 33,
     "metadata": {},
     "output_type": "execute_result"
    }
   ],
   "source": [
    "R2,R2_model"
   ]
  },
  {
   "cell_type": "code",
   "execution_count": 34,
   "metadata": {},
   "outputs": [
    {
     "data": {
      "text/plain": [
       "Text(0.5,1,'Valor Actual vs Prediccion')"
      ]
     },
     "execution_count": 34,
     "metadata": {},
     "output_type": "execute_result"
    },
    {
     "data": {
      "image/png": "[encoded data removed]",
      "text/plain": [
       "<Figure size 432x288 with 1 Axes>"
      ]
     },
     "metadata": {},
     "output_type": "display_data"
    }
   ],
   "source": [
    "y_mean = [np.mean(y_act) for i in range(1,len(x_list)+1)]\n",
    "plt.plot(df[\"x\"],df[\"y_pred\"])\n",
    "plt.plot(df[\"x\"],df[\"y\"],\"ro\")\n",
    "plt.plot(df[\"x\"],y_mean, \"g\")\n",
    "plt.plot(df[\"x\"],df[\"y_model\"],\"y\")\n",
    "plt.title(\"Valor Actual vs Prediccion\")"
   ]
  },
  {
   "cell_type": "markdown",
   "metadata": {},
   "source": [
    "# Error estandar residual (RSE)"
   ]
  },
  {
   "cell_type": "code",
   "execution_count": 37,
   "metadata": {},
   "outputs": [],
   "source": [
    "RSE = np.sqrt( SSD / (len(df) -2) )"
   ]
  },
  {
   "cell_type": "code",
   "execution_count": 38,
   "metadata": {},
   "outputs": [
    {
     "data": {
      "text/plain": [
       "0.9027856246519477"
      ]
     },
     "execution_count": 38,
     "metadata": {},
     "output_type": "execute_result"
    }
   ],
   "source": [
    "RSE"
   ]
  },
  {
   "cell_type": "code",
   "execution_count": 39,
   "metadata": {},
   "outputs": [
    {
     "data": {
      "text/plain": [
       "7.963863112244112"
      ]
     },
     "execution_count": 39,
     "metadata": {},
     "output_type": "execute_result"
    }
   ],
   "source": [
    "df[\"y\"].mean()"
   ]
  },
  {
   "cell_type": "code",
   "execution_count": 40,
   "metadata": {},
   "outputs": [
    {
     "data": {
      "text/plain": [
       "0.1133602639733915"
      ]
     },
     "execution_count": 40,
     "metadata": {},
     "output_type": "execute_result"
    }
   ],
   "source": [
    "RSE / df[\"y\"].mean()"
   ]
  },
  {
   "cell_type": "code",
   "execution_count": null,
   "metadata": {},
   "outputs": [],
   "source": []
  }
 ],
 "metadata": {
  "kernelspec": {
   "display_name": "Python 3",
   "language": "python",
   "name": "python3"
  },
  "language_info": {
   "codemirror_mode": {
    "name": "ipython",
    "version": 3
   },
   "file_extension": ".py",
   "mimetype": "text/x-python",
   "name": "python",
   "nbconvert_exporter": "python",
   "pygments_lexer": "ipython3",
   "version": "3.6.5"
  }
 },
 "nbformat": 4,
 "nbformat_minor": 2
}
