{
 "cells": [
  {
   "cell_type": "code",
   "execution_count": 1,
   "metadata": {},
   "outputs": [],
   "source": [
    "import numpy as np\n",
    "import pandas as pd\n",
    "import matplotlib.pyplot as plt\n",
    "%matplotlib inline"
   ]
  },
  {
   "cell_type": "code",
   "execution_count": 2,
   "metadata": {},
   "outputs": [
    {
     "data": {
      "text/plain": [
       "array([[0.41653425, 0.76025423, 0.8151912 ],\n",
       "       [0.14904963, 0.63035013, 0.82918795],\n",
       "       [0.04173845, 0.13703814, 0.63966085],\n",
       "       [0.11062667, 0.85126615, 0.69219971],\n",
       "       [0.25834147, 0.81835127, 0.05780285],\n",
       "       [0.89182305, 0.48955007, 0.19290343],\n",
       "       [0.21079405, 0.61364163, 0.44500699],\n",
       "       [0.2377079 , 0.06938391, 0.41970244],\n",
       "       [0.69800908, 0.29328367, 0.87077358],\n",
       "       [0.25297864, 0.35968283, 0.99343433],\n",
       "       [0.60953489, 0.54335546, 0.22544419],\n",
       "       [0.02071272, 0.07074949, 0.92776262],\n",
       "       [0.85810129, 0.56932306, 0.10874355],\n",
       "       [0.80660415, 0.10603668, 0.32225769],\n",
       "       [0.5071087 , 0.56985544, 0.80640918],\n",
       "       [0.92881652, 0.08432563, 0.39044698],\n",
       "       [0.30566384, 0.87090974, 0.76320645],\n",
       "       [0.145963  , 0.56420025, 0.62758983],\n",
       "       [0.41734793, 0.94149372, 0.98936837],\n",
       "       [0.88477275, 0.16544674, 0.1933164 ],\n",
       "       [0.82950905, 0.08872792, 0.70373585],\n",
       "       [0.65669345, 0.16925457, 0.6795132 ],\n",
       "       [0.26331603, 0.89379934, 0.42893859],\n",
       "       [0.08249812, 0.99550741, 0.66302993],\n",
       "       [0.28316771, 0.82317779, 0.32629644],\n",
       "       [0.02933124, 0.22650495, 0.50035859],\n",
       "       [0.00278958, 0.91131893, 0.46847237],\n",
       "       [0.07498074, 0.31605163, 0.3718291 ],\n",
       "       [0.19110434, 0.22580771, 0.12123438],\n",
       "       [0.69708992, 0.95585275, 0.89407088]])"
      ]
     },
     "execution_count": 2,
     "metadata": {},
     "output_type": "execute_result"
    }
   ],
   "source": [
    "X = np.random.random(90).reshape(30,3)\n",
    "X"
   ]
  },
  {
   "cell_type": "code",
   "execution_count": 5,
   "metadata": {},
   "outputs": [],
   "source": [
    "# supongamos que vamos a formar 2 grupos\n",
    "# tenemos que seleccionar 2 ptos al azar y diremos que son los centroides\n",
    "c1 = np.random.choice(range(len(X)))\n",
    "c2 = np.random.choice(range(len(X)))"
   ]
  },
  {
   "cell_type": "code",
   "execution_count": 7,
   "metadata": {},
   "outputs": [
    {
     "data": {
      "text/plain": [
       "(array([0.69800908, 0.29328367, 0.87077358]),\n",
       " array([0.25834147, 0.81835127, 0.05780285]))"
      ]
     },
     "execution_count": 7,
     "metadata": {},
     "output_type": "execute_result"
    }
   ],
   "source": [
    " X[c1], X[c2]"
   ]
  },
  {
   "cell_type": "code",
   "execution_count": 9,
   "metadata": {},
   "outputs": [
    {
     "data": {
      "text/plain": [
       "array([[0.69800908, 0.29328367, 0.87077358],\n",
       "       [0.25834147, 0.81835127, 0.05780285]])"
      ]
     },
     "execution_count": 9,
     "metadata": {},
     "output_type": "execute_result"
    }
   ],
   "source": [
    "clust_center = np.vstack([X[c1], X[c2]])\n",
    "clust_center"
   ]
  },
  {
   "cell_type": "markdown",
   "metadata": {},
   "source": [
    "# K-means"
   ]
  },
  {
   "cell_type": "code",
   "execution_count": 10,
   "metadata": {},
   "outputs": [],
   "source": [
    "from scipy.cluster.vq import vq"
   ]
  },
  {
   "cell_type": "code",
   "execution_count": 11,
   "metadata": {},
   "outputs": [
    {
     "data": {
      "text/plain": [
       "(array([0, 0, 0, 1, 1, 1, 1, 0, 0, 0, 1, 0, 1, 0, 0, 0, 0, 1, 0, 0, 0, 0,\n",
       "        1, 1, 1, 0, 1, 1, 1, 0]),\n",
       " array([0.54806841, 0.64552276, 0.71310371, 0.65219816, 0.        ,\n",
       "        0.72640299, 0.44056083, 0.68225615, 0.        , 0.46637603,\n",
       "        0.47651142, 0.71519198, 0.65139991, 0.58968128, 0.34216615,\n",
       "        0.57240648, 0.70651069, 0.63393916, 0.71624833, 0.71426268,\n",
       "        0.29502017, 0.23166945, 0.37875968, 0.65467932, 0.26968212,\n",
       "        0.7673309 , 0.49254361, 0.62011174, 0.59971015, 0.66297917]))"
      ]
     },
     "execution_count": 11,
     "metadata": {},
     "output_type": "execute_result"
    }
   ],
   "source": [
    "vq(X,clust_center)"
   ]
  },
  {
   "cell_type": "code",
   "execution_count": 12,
   "metadata": {},
   "outputs": [],
   "source": [
    "from scipy.cluster.vq import kmeans"
   ]
  },
  {
   "cell_type": "code",
   "execution_count": 13,
   "metadata": {},
   "outputs": [
    {
     "data": {
      "text/plain": [
       "(array([[0.51729597, 0.23698931, 0.44451219],\n",
       "        [0.2735513 , 0.77064411, 0.653347  ]]), 0.394432699334021)"
      ]
     },
     "execution_count": 13,
     "metadata": {},
     "output_type": "execute_result"
    }
   ],
   "source": [
    "kmeans(X,clust_center) # varicentros"
   ]
  },
  {
   "cell_type": "code",
   "execution_count": 14,
   "metadata": {},
   "outputs": [
    {
     "data": {
      "text/plain": [
       "(array([[0.22473856, 0.64789504, 0.64420085],\n",
       "        [0.69024332, 0.25495413, 0.38437015]]), 0.3867176817233664)"
      ]
     },
     "execution_count": 14,
     "metadata": {},
     "output_type": "execute_result"
    }
   ],
   "source": [
    "# o podemos directamente decirle el k\n",
    "kmeans(X,2)"
   ]
  },
  {
   "cell_type": "code",
   "execution_count": null,
   "metadata": {},
   "outputs": [],
   "source": []
  }
 ],
 "metadata": {
  "kernelspec": {
   "display_name": "Python 3",
   "language": "python",
   "name": "python3"
  },
  "language_info": {
   "codemirror_mode": {
    "name": "ipython",
    "version": 3
   },
   "file_extension": ".py",
   "mimetype": "text/x-python",
   "name": "python",
   "nbconvert_exporter": "python",
   "pygments_lexer": "ipython3",
   "version": "3.6.5"
  }
 },
 "nbformat": 4,
 "nbformat_minor": 2
}
